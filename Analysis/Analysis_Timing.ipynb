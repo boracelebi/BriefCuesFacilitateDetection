{
 "cells": [
  {
   "cell_type": "code",
   "execution_count": 1,
   "id": "373abbc5-eb48-4e46-99bd-f68b5f64c415",
   "metadata": {
    "tags": []
   },
   "outputs": [],
   "source": [
    "import pandas as pd\n",
    "import numpy as np\n",
    "import pingouin as pg\n",
    "import matplotlib.pyplot as plt\n",
    "import os\n",
    "from scipy.signal import find_peaks\n",
    "from scipy.stats import sem\n",
    "import scipy.stats as stats"
   ]
  },
  {
   "cell_type": "code",
   "execution_count": null,
   "id": "42456d6e-7643-4172-8b53-f73e21b66011",
   "metadata": {
    "tags": []
   },
   "outputs": [],
   "source": [
    "part_names_all = ['P1','P2','P3','P4','P5','P6','P7','P8','P9','P10',\n",
    "                 'P11','P12']\n",
    "sl_start = [88500,95000,1,109650,114150,119250,3897700,3910550,3915450,3974610,3979310,3984910]\n",
    "sl_end = [91200,98000,1000000,115000,118000,125000,100000000,100000000,100000000,100000000,100000000,100000000]\n",
    "nSubj = len(part_names_all)\n",
    "nSubj = len(part_names_all)\n",
    "durs = [200,300,400,500,600,700,800]\n",
    "\n",
    "dat_path = os.getcwd()+\"/data_time/\"\n",
    "all_hits = np.zeros((nSubj,4))\n",
    "RTs = np.full((nSubj,2,84),np.nan)\n",
    "all_time_resp=np.zeros((nSubj,2,7,3))\n",
    "half_time_resp=np.zeros((nSubj,2,7,3))\n",
    "full_time_resp=np.zeros((nSubj,2,7,3))\n",
    "\n",
    "for iSub,idSub in enumerate(part_names_all):\n",
    "    path = dat_path+idSub\n",
    "    flist = sorted(os.listdir(path))\n",
    "    cue_count = 0\n",
    "    rob_count = 0\n",
    "    user_count = 0\n",
    "    stop_count = 0\n",
    "    resp_count = 0\n",
    "    for i in range(len(flist)):\n",
    "        \n",
    "        if (\"cue_state\" in flist[i]) | (\"Cue_state\" in flist[i]):\n",
    "            if cue_count == 0:\n",
    "                cue_df = pd.read_csv(path+\"/\"+flist[i])\n",
    "                cue_df.columns = [\"timestamp\",\"channel_0\"]\n",
    "                cue_count += 1\n",
    "            elif cue_count == 1:\n",
    "                tmp = pd.read_csv(path+\"/\"+flist[i])\n",
    "                tmp.columns = [\"timestamp\",\"channel_0\"]\n",
    "                cue_df = pd.concat([cue_df,tmp],ignore_index=True)\n",
    "            \n",
    "            \n",
    "\n",
    "            print(flist[i])\n",
    "        elif (\"rob_state\" in flist[i]) | (\"Robot_state\" in flist[i]):\n",
    "            if rob_count == 0:\n",
    "                robst_df = pd.read_csv(path+\"/\"+flist[i])\n",
    "                robst_df.columns = [\"timestamp\",\"channel_0\"]\n",
    "                rob_count +=1\n",
    "            elif rob_count == 1:\n",
    "                tmp = pd.read_csv(path+\"/\"+flist[i])\n",
    "                tmp.columns = [\"timestamp\",\"channel_0\"]\n",
    "                robst_df = pd.concat([robst_df,tmp],ignore_index=True)\n",
    "\n",
    "        \n",
    "    \n",
    "\n",
    "            print(flist[i])\n",
    "        elif (\"user_input\" in flist[i]) | (\"User_input\" in flist[i]):\n",
    "            if user_count == 0:\n",
    "                resp_df = pd.read_csv(path+\"/\"+flist[i])\n",
    "                resp_df.columns = [\"timestamp\",\"channel_0\"]\n",
    "                user_count+=1\n",
    "            elif user_count ==1 :\n",
    "                tmp = pd.read_csv(path+\"/\"+flist[i])\n",
    "                tmp.columns = [\"timestamp\",\"channel_0\"]\n",
    "                resp_df = pd.concat([resp_df,tmp],ignore_index=True)\n",
    "        elif \"Stop_state\" in flist[i]:\n",
    "            if stop_count == 0:\n",
    "                stop_df = pd.read_csv(path+\"/\"+flist[i])\n",
    "                stop_df.columns = [\"timestamp\",\"channel_0\"]\n",
    "                stop_count+=1\n",
    "            elif stop_count ==1 :\n",
    "                tmp = pd.read_csv(path+\"/\"+flist[i])\n",
    "                tmp.columns = [\"timestamp\",\"channel_0\"]\n",
    "                stop_df = pd.concat([stop_df,tmp],ignore_index=True)\n",
    "\n",
    "    cue_df = cue_df[(cue_df.timestamp>(sl_start[iSub]-1)) & (cue_df.timestamp<(sl_end[iSub]+1))].reset_index()\n",
    "    robst_df = robst_df[(robst_df.timestamp>(sl_start[iSub]-1)) & (robst_df.timestamp<(sl_end[iSub]+1))].reset_index()\n",
    "    resp_df = resp_df[(resp_df.timestamp>(sl_start[iSub]-1)) & (resp_df.timestamp<(sl_end[iSub]+1))].reset_index()\n",
    "    stop_df = stop_df[(stop_df.timestamp>(sl_start[iSub]-1)) & (stop_df.timestamp<(sl_end[iSub]+1))].reset_index()\n",
    "    cue_1_idx = find_peaks(cue_df.channel_0,[1,1],distance=100)\n",
    "    cue_3_idx = find_peaks(cue_df.channel_0,[3,3],distance=100)\n",
    "    print(len(cue_3_idx[0]))\n",
    "    print(len(cue_1_idx[0]))\n",
    "    resp_idx = find_peaks(resp_df.channel_0,[1,1],distance=100)\n",
    "    print(len(resp_idx[0]))\n",
    "\n",
    "    resp_count=0\n",
    "    for iCue in range(len(cue_1_idx[0])):\n",
    "        cue_ts = cue_df.timestamp[cue_1_idx[0][iCue]]\n",
    "        rob_win = robst_df[(robst_df.timestamp>(cue_ts-1))& (robst_df.timestamp<(cue_ts+5))].reset_index()\n",
    "        stop_win = stop_df[(stop_df.timestamp>(cue_ts-1))& (stop_df.timestamp<(cue_ts+5))].reset_index()\n",
    "        rob_state = max(rob_win.channel_0)\n",
    "        rob_tses = rob_win.timestamp[rob_win.channel_0!=0].values\n",
    "        stop_state = max(stop_win.channel_0)\n",
    "        stop_state = int(stop_state)\n",
    "        #print(stop_state)\n",
    "        rob_ts = rob_tses[0]\n",
    "        resp_win = resp_df[(resp_df.timestamp>(cue_ts-1))& (resp_df.timestamp<(cue_ts+5))].reset_index()\n",
    "        resp_idx = np.where(resp_win.channel_0==1)[0]\n",
    "        time_resp = max(resp_win.channel_0)\n",
    "\n",
    "\n",
    "        rt=0\n",
    "        #print(len(resp_idx))\n",
    "        if time_resp>0:\n",
    "            if rob_state ==1:\n",
    "                if len(resp_idx)>0:\n",
    "                    resp_ts = resp_win.timestamp[resp_idx[0]]\n",
    "                    #hits[0] = hits[0]+1\n",
    "                    rt = resp_ts-rob_ts\n",
    "                    RTs[iSub,0,iCue] = rt\n",
    "                if time_resp == 4:\n",
    "                    \n",
    "                    all_time_resp[iSub,0,stop_state-1,1] +=1 \n",
    "                    if resp_count <42:\n",
    "                        half_time_resp[iSub,0,stop_state-1,1] +=1\n",
    "                    else:\n",
    "                        full_time_resp[iSub,0,stop_state-1,1] +=1\n",
    "                all_time_resp[iSub,0,stop_state-1,2] +=1 \n",
    "                all_time_resp[iSub,0,stop_state-1,0] =durs[stop_state-1]\n",
    "                if resp_count <42:\n",
    "                    half_time_resp[iSub,0,stop_state-1,2] +=1 \n",
    "                    half_time_resp[iSub,0,stop_state-1,0] =durs[stop_state-1]  \n",
    "                else:\n",
    "                    full_time_resp[iSub,0,stop_state-1,2] +=1 \n",
    "                    full_time_resp[iSub,0,stop_state-1,0] =durs[stop_state-1]  \n",
    "                #print(\"No CUE: \",rt)\n",
    "                resp_count+=1\n",
    "    resp_count=0\n",
    "    for iCue in range(len(cue_3_idx[0])):\n",
    "        cue_ts = cue_df.timestamp[cue_3_idx[0][iCue]]\n",
    "        rob_win = robst_df[(robst_df.timestamp>(cue_ts-1))& (robst_df.timestamp<(cue_ts+5))].reset_index()\n",
    "        stop_win = stop_df[(stop_df.timestamp>(cue_ts-1))& (stop_df.timestamp<(cue_ts+5))].reset_index()\n",
    "        rob_state = max(rob_win.channel_0)\n",
    "        rob_tses = rob_win.timestamp[rob_win.channel_0!=0].values\n",
    "        stop_state = max(stop_win.channel_0)\n",
    "        stop_state = int(stop_state)\n",
    "        #print(stop_state)\n",
    "        rob_ts = rob_tses[0]\n",
    "        resp_win = resp_df[(resp_df.timestamp>(cue_ts-1))& (resp_df.timestamp<(cue_ts+5))].reset_index()\n",
    "        resp_idx = np.where(resp_win.channel_0==1)[0]\n",
    "        time_resp = max(resp_win.channel_0)\n",
    "        '''\n",
    "        plt.figure()\n",
    "        plt.plot(resp_win.channel_0)\n",
    "        plt.show()\n",
    "        plt.figure()\n",
    "        plt.plot(stop_win.channel_0,color='red')\n",
    "        plt.show()\n",
    "        '''\n",
    "        rt=0\n",
    "        #print(len(resp_idx))\n",
    "        if time_resp>0:\n",
    "            \n",
    "            if rob_state ==1:\n",
    "                resp_count=resp_count+1\n",
    "                \n",
    "                if len(resp_idx)>0:\n",
    "                    resp_ts = resp_win.timestamp[resp_idx[0]]\n",
    "                    #hits[0] = hits[0]+1\n",
    "                    rt = resp_ts-rob_ts\n",
    "                    RTs[iSub,1,iCue] = rt\n",
    "                if time_resp == 4:\n",
    "                    \n",
    "                    all_time_resp[iSub,1,stop_state-1,1] +=1 \n",
    "                    if resp_count <42:\n",
    "                        half_time_resp[iSub,1,stop_state-1,1] +=1\n",
    "                    else:\n",
    "                        full_time_resp[iSub,1,stop_state-1,1] +=1\n",
    "                all_time_resp[iSub,1,stop_state-1,2] +=1 \n",
    "                all_time_resp[iSub,1,stop_state-1,0] =durs[stop_state-1]\n",
    "                if resp_count <42:\n",
    "                    half_time_resp[iSub,1,stop_state-1,2] +=1 \n",
    "                    half_time_resp[iSub,1,stop_state-1,0] =durs[stop_state-1]  \n",
    "                else:\n",
    "                    full_time_resp[iSub,1,stop_state-1,2] +=1 \n",
    "                    full_time_resp[iSub,1,stop_state-1,0] =durs[stop_state-1]  \n",
    "                \n",
    "                #print(\"Hap CUE: \",rt)  \n"
   ]
  },
  {
   "cell_type": "code",
   "execution_count": 8,
   "id": "c2216348-ccff-4dfc-97d2-71d60e8cd11e",
   "metadata": {
    "tags": []
   },
   "outputs": [
    {
     "data": {
      "text/plain": [
       "Text(0, 0.5, 'Reaction Time [s]')"
      ]
     },
     "execution_count": 8,
     "metadata": {},
     "output_type": "execute_result"
    },
    {
     "data": {
      "image/png": "[encoded data removed]",
      "text/plain": [
       "<Figure size 640x480 with 1 Axes>"
      ]
     },
     "metadata": {},
     "output_type": "display_data"
    }
   ],
   "source": [
    "import seaborn as sns\n",
    "outlier =8\n",
    "\n",
    "all_mean_RTs= mean_RTs\n",
    "all_mean_RTs=np.delete(all_mean_RTs,outlier,axis=0)\n",
    "\n",
    "means = [np.nanmean(all_mean_RTs[:,0]),np.nanmean(all_mean_RTs[:,1])]\n",
    "sems = [sem(all_mean_RTs,axis=0)]\n",
    "stds = [np.std(all_mean_RTs,axis=0)]\n",
    "\n",
    "plt.bar([0,1],means,color = sns.color_palette(\"flare\",4))\n",
    "plt.errorbar([0,1],means,yerr=sems,fmt='None',color='k')\n",
    "plt.xticks([0,1],labels=['No Cue','Tactile Cue'])\n",
    "plt.ylabel('Reaction Time [s]')"
   ]
  },
  {
   "cell_type": "code",
   "execution_count": 13,
   "id": "0233bc6d-7a21-47e0-adb3-112a5866dc55",
   "metadata": {},
   "outputs": [],
   "source": [
    "full_time_resp_wocue = full_time_resp[:,0,:,[1,2]]+full_time_resp[:,1,:,[1,2]]\n",
    "half_time_resp_wocue = full_time_resp[:,0,:,[1,2]]+half_time_resp[:,1,:,[1,2]]\n"
   ]
  },
  {
   "cell_type": "code",
   "execution_count": null,
   "id": "49783615-9c40-4882-b064-0a8d43791c40",
   "metadata": {},
   "outputs": [],
   "source": [
    "#Split Half Reliability PSEs\n",
    "\n",
    "import psignifit as ps\n",
    "PSEs_block = np.zeros((nSubj,2))\n",
    "WFs_block = np.zeros((nSubj,2))\n",
    "stimlevs = np.array([200,300,400,500,600,700,800])\n",
    "stimlevs = np.reshape(stimlevs,(7,1))\n",
    "for iSub in range(nSubj):\n",
    "    options                = dict()\n",
    "    options['sigmoidName'] = 'logistic'   # choose a cumulative Gauss as the sigmoid\n",
    "    options['expType']     = 'YesNo'  \n",
    "    data = full_time_resp_wocue[:,iSub,:].T\n",
    "    data = np.concatenate([stimlevs,data],axis=1)\n",
    "    print(data)\n",
    "    res = ps.psignifit(data, options)\n",
    "    PSEs_block[iSub,0] = res['Fit'][0]\n",
    "    jnd = (ps.getThreshold(res,0.75)[0]-ps.getThreshold(res,0.25)[0])/2\n",
    "    WFs_block[iSub,0] = jnd / PSEs_block[iSub,0]\n",
    "    print('PSE After Half: ',res['Fit'][0])\n",
    "    print('WF After Half: ',WFs_block[iSub,0])\n",
    "    #ps.psigniplot.plotPsych(res,yLabel='Proportion Long',xLabel='Duration')\n",
    "    #plt.show()\n",
    "    data = half_time_resp_wocue[:,iSub,:].T\n",
    "    data = np.concatenate([stimlevs,data],axis=1)\n",
    "    res = ps.psignifit(data, options)\n",
    "    print('PSE Before Half: ',res['Fit'][0])\n",
    "    PSEs_block[iSub,1] = res['Fit'][0]\n",
    "    jnd = (ps.getThreshold(res,0.75)[0]-ps.getThreshold(res,0.25)[0])/2\n",
    "    WFs_block[iSub,1] = jnd / PSEs_block[iSub,1] \n",
    "    print('WF Hap Cue: ',WFs_block[iSub,1])\n",
    "    #ps.psigniplot.plotPsych(res,yLabel='Proportion Long',xLabel='Duration')\n",
    "    #plt.show()"
   ]
  },
  {
   "cell_type": "code",
   "execution_count": 15,
   "id": "93847c6c-df27-4f89-9c60-c0d735d98833",
   "metadata": {},
   "outputs": [
    {
     "data": {
      "text/plain": [
       "PearsonRResult(statistic=0.7512337877811479, pvalue=0.0048542598841249)"
      ]
     },
     "execution_count": 15,
     "metadata": {},
     "output_type": "execute_result"
    },
    {
     "data": {
      "image/png": "[encoded data removed]",
      "text/plain": [
       "<Figure size 640x480 with 1 Axes>"
      ]
     },
     "metadata": {},
     "output_type": "display_data"
    }
   ],
   "source": [
    "x = PSEs_block[:,0]\n",
    "y = PSEs_block[:,1]\n",
    "m, b = np.polyfit(x, y, 1)\n",
    "plt.scatter(PSEs_block[:,0],PSEs_block[:,1])\n",
    "plt.plot(x, m*x+b,color=\"orange\")\n",
    "stats.pearsonr(x,y)"
   ]
  },
  {
   "cell_type": "code",
   "execution_count": null,
   "id": "eda06dff-405e-466d-8d8e-c55fe2f66bfd",
   "metadata": {
    "tags": []
   },
   "outputs": [],
   "source": [
    "import psignifit as ps\n",
    "PSEs = np.zeros((nSubj,2))\n",
    "WFs = np.zeros((nSubj,2))\n",
    "for iSub in range(nSubj):\n",
    "    options                = dict()\n",
    "    options['sigmoidName'] = 'logistic'   # choose a cumulative Gauss as the sigmoid\n",
    "    options['expType']     = 'equalAsymptote'  \n",
    "    data = all_time_resp[iSub,0,:,:]\n",
    "    res = ps.psignifit(data, options)\n",
    "    PSEs[iSub,0] = res['Fit'][0]\n",
    "    jnd = (ps.getThreshold(res,0.75)[0]-ps.getThreshold(res,0.25)[0])/2\n",
    "    WFs[iSub,0] = jnd / PSEs[iSub,0]\n",
    "    print('PSE No Cue: ',res['Fit'][0])\n",
    "    print('WF No Cue: ',WFs[iSub,0])\n",
    "    ps.psigniplot.plotPsych(res,yLabel='Proportion Long',xLabel='Duration')\n",
    "    plt.show()\n",
    "    data = all_time_resp[iSub,1,:,:]\n",
    "    res = ps.psignifit(data, options)\n",
    "    print('PSE Hap Cue: ',res['Fit'][0])\n",
    "    PSEs[iSub,1] = res['Fit'][0]\n",
    "    jnd = (ps.getThreshold(res,0.75)[0]-ps.getThreshold(res,0.25)[0])/2\n",
    "    WFs[iSub,1] = jnd / PSEs[iSub,1] \n",
    "    print('WF Hap Cue: ',WFs[iSub,1])\n",
    "    ps.psigniplot.plotPsych(res,yLabel='Proportion Long',xLabel='Duration')\n",
    "    plt.show()"
   ]
  },
  {
   "cell_type": "code",
   "execution_count": 18,
   "id": "04003a36-64d8-49f9-b281-c90d7aa01b7d",
   "metadata": {},
   "outputs": [],
   "source": [
    "col_pal = ['#C3C8CD','#414B56']"
   ]
  },
  {
   "cell_type": "code",
   "execution_count": 19,
   "id": "8e692434-474e-483c-992d-e9f56eb36836",
   "metadata": {},
   "outputs": [],
   "source": [
    "\n",
    "PSEs_old = PSEs\n",
    "WFs_old = WFs\n",
    "outlier =8\n",
    "PSEs=np.delete(PSEs,outlier,axis=0)\n",
    "\n",
    "WFs=np.delete(WFs,outlier,axis=0)\n",
    "means=np.mean(PSEs,axis=0)\n",
    "sems = np.std(PSEs,axis=0)"
   ]
  },
  {
   "cell_type": "code",
   "execution_count": 22,
   "id": "3c9f0671-eb05-4675-a9b5-43ee35e85dc7",
   "metadata": {
    "tags": []
   },
   "outputs": [
    {
     "name": "stdout",
     "output_type": "stream",
     "text": [
      "[514.50789696 503.35812883]\n",
      "[50.30197719 42.30792017]\n",
      "[0.24423154 0.17866953]\n",
      "[0.03002606 0.03170511]\n"
     ]
    },
    {
     "data": {
      "text/plain": [
       "Text(-0.4, 0.265, 'B')"
      ]
     },
     "execution_count": 22,
     "metadata": {},
     "output_type": "execute_result"
    },
    {
     "data": {
      "image/png": "[encoded data removed]",
      "text/plain": [
       "<Figure size 1100x500 with 2 Axes>"
      ]
     },
     "metadata": {},
     "output_type": "display_data"
    },
    {
     "data": {
      "text/plain": [
       "<Figure size 640x480 with 0 Axes>"
      ]
     },
     "metadata": {},
     "output_type": "display_data"
    }
   ],
   "source": [
    "from scipy.stats import sem\n",
    "col_pal = ['#C3C8CD','#606A74','#414B56','#212930']\n",
    "f, (ax1,ax2) = plt.subplots(1, 2,figsize=(11,5))\n",
    "\n",
    "means=np.mean(PSEs,axis=0)\n",
    "sems = np.std(PSEs,axis=0)\n",
    "print(means)\n",
    "print(sems)\n",
    "ax1.bar(['No Cue','Tactile Cue'],means,color = col_pal)\n",
    "ax1.errorbar(['No Cue','Tactile Cue'],means,yerr=sems,fmt='None',color='black')\n",
    "#plt.ylim([400,600])\n",
    "ax1.set_title('Bisection Points')\n",
    "ax1.set_ylabel('Duration [ms]')\n",
    "ax1.text(-0.4,550,'A',fontsize=16,weight=\"bold\")\n",
    "\n",
    "means=np.mean(WFs,axis=0)\n",
    "sems = sem(WFs,axis=0)\n",
    "plt.figure()\n",
    "print(means)\n",
    "print(sems)\n",
    "ax2.bar(['No Cue','Tactile Cue'],means,color = col_pal)\n",
    "ax2.errorbar(['No Cue','Tactile Cue'],means,yerr=sems,fmt='None',color='black')\n",
    "ax2.set_title('Weber Fractions')\n",
    "ax2.text(-0.4,0.265,'B',fontsize=16,weight=\"bold\")\n"
   ]
  },
  {
   "cell_type": "code",
   "execution_count": 18,
   "id": "d0e14be0-f94e-4733-a06c-f2de196e68f2",
   "metadata": {
    "tags": []
   },
   "outputs": [
    {
     "data": {
      "text/html": [
       "<div>\n",
       "<style scoped>\n",
       "    .dataframe tbody tr th:only-of-type {\n",
       "        vertical-align: middle;\n",
       "    }\n",
       "\n",
       "    .dataframe tbody tr th {\n",
       "        vertical-align: top;\n",
       "    }\n",
       "\n",
       "    .dataframe thead th {\n",
       "        text-align: right;\n",
       "    }\n",
       "</style>\n",
       "<table border=\"1\" class=\"dataframe\">\n",
       "  <thead>\n",
       "    <tr style=\"text-align: right;\">\n",
       "      <th></th>\n",
       "      <th>T</th>\n",
       "      <th>dof</th>\n",
       "      <th>alternative</th>\n",
       "      <th>p-val</th>\n",
       "      <th>CI95%</th>\n",
       "      <th>cohen-d</th>\n",
       "      <th>BF10</th>\n",
       "      <th>power</th>\n",
       "    </tr>\n",
       "  </thead>\n",
       "  <tbody>\n",
       "    <tr>\n",
       "      <th>T-test</th>\n",
       "      <td>4.91594</td>\n",
       "      <td>10</td>\n",
       "      <td>two-sided</td>\n",
       "      <td>0.000609</td>\n",
       "      <td>[0.04, 0.1]</td>\n",
       "      <td>0.640208</td>\n",
       "      <td>61.55</td>\n",
       "      <td>0.483552</td>\n",
       "    </tr>\n",
       "  </tbody>\n",
       "</table>\n",
       "</div>"
      ],
      "text/plain": [
       "              T  dof alternative     p-val        CI95%   cohen-d   BF10   \n",
       "T-test  4.91594   10   two-sided  0.000609  [0.04, 0.1]  0.640208  61.55  \\\n",
       "\n",
       "           power  \n",
       "T-test  0.483552  "
      ]
     },
     "execution_count": 18,
     "metadata": {},
     "output_type": "execute_result"
    }
   ],
   "source": [
    "import pingouin as pg\n",
    "pg.ttest(WFs[:,0],WFs[:,1],paired=True)"
   ]
  },
  {
   "cell_type": "code",
   "execution_count": 19,
   "id": "86fc8717-a8fe-432a-a0cc-4cf71720d12a",
   "metadata": {},
   "outputs": [
    {
     "data": {
      "text/html": [
       "<div>\n",
       "<style scoped>\n",
       "    .dataframe tbody tr th:only-of-type {\n",
       "        vertical-align: middle;\n",
       "    }\n",
       "\n",
       "    .dataframe tbody tr th {\n",
       "        vertical-align: top;\n",
       "    }\n",
       "\n",
       "    .dataframe thead th {\n",
       "        text-align: right;\n",
       "    }\n",
       "</style>\n",
       "<table border=\"1\" class=\"dataframe\">\n",
       "  <thead>\n",
       "    <tr style=\"text-align: right;\">\n",
       "      <th></th>\n",
       "      <th>T</th>\n",
       "      <th>dof</th>\n",
       "      <th>alternative</th>\n",
       "      <th>p-val</th>\n",
       "      <th>CI95%</th>\n",
       "      <th>cohen-d</th>\n",
       "      <th>BF10</th>\n",
       "      <th>power</th>\n",
       "    </tr>\n",
       "  </thead>\n",
       "  <tbody>\n",
       "    <tr>\n",
       "      <th>T-test</th>\n",
       "      <td>5.090179</td>\n",
       "      <td>10</td>\n",
       "      <td>two-sided</td>\n",
       "      <td>0.000471</td>\n",
       "      <td>[0.13, 0.32]</td>\n",
       "      <td>1.500327</td>\n",
       "      <td>76.502</td>\n",
       "      <td>0.993747</td>\n",
       "    </tr>\n",
       "  </tbody>\n",
       "</table>\n",
       "</div>"
      ],
      "text/plain": [
       "               T  dof alternative     p-val         CI95%   cohen-d    BF10   \n",
       "T-test  5.090179   10   two-sided  0.000471  [0.13, 0.32]  1.500327  76.502  \\\n",
       "\n",
       "           power  \n",
       "T-test  0.993747  "
      ]
     },
     "execution_count": 19,
     "metadata": {},
     "output_type": "execute_result"
    }
   ],
   "source": [
    "pg.ttest(all_mean_RTs[:,0],all_mean_RTs[:,1],paired=True)\n",
    "\n"
   ]
  },
  {
   "cell_type": "code",
   "execution_count": 20,
   "id": "bade8a97-84b0-4156-95d9-bda68b083ddf",
   "metadata": {
    "tags": []
   },
   "outputs": [
    {
     "data": {
      "text/html": [
       "<div>\n",
       "<style scoped>\n",
       "    .dataframe tbody tr th:only-of-type {\n",
       "        vertical-align: middle;\n",
       "    }\n",
       "\n",
       "    .dataframe tbody tr th {\n",
       "        vertical-align: top;\n",
       "    }\n",
       "\n",
       "    .dataframe thead th {\n",
       "        text-align: right;\n",
       "    }\n",
       "</style>\n",
       "<table border=\"1\" class=\"dataframe\">\n",
       "  <thead>\n",
       "    <tr style=\"text-align: right;\">\n",
       "      <th></th>\n",
       "      <th>T</th>\n",
       "      <th>dof</th>\n",
       "      <th>alternative</th>\n",
       "      <th>p-val</th>\n",
       "      <th>CI95%</th>\n",
       "      <th>cohen-d</th>\n",
       "      <th>BF10</th>\n",
       "      <th>power</th>\n",
       "    </tr>\n",
       "  </thead>\n",
       "  <tbody>\n",
       "    <tr>\n",
       "      <th>T-test</th>\n",
       "      <td>0.756283</td>\n",
       "      <td>10</td>\n",
       "      <td>two-sided</td>\n",
       "      <td>0.466922</td>\n",
       "      <td>[-21.7, 44.0]</td>\n",
       "      <td>0.228734</td>\n",
       "      <td>0.379</td>\n",
       "      <td>0.105769</td>\n",
       "    </tr>\n",
       "  </tbody>\n",
       "</table>\n",
       "</div>"
      ],
      "text/plain": [
       "               T  dof alternative     p-val          CI95%   cohen-d   BF10   \n",
       "T-test  0.756283   10   two-sided  0.466922  [-21.7, 44.0]  0.228734  0.379  \\\n",
       "\n",
       "           power  \n",
       "T-test  0.105769  "
      ]
     },
     "execution_count": 20,
     "metadata": {},
     "output_type": "execute_result"
    }
   ],
   "source": [
    "pg.ttest(PSEs[:,0],PSEs[:,1],paired=True)"
   ]
  },
  {
   "cell_type": "code",
   "execution_count": null,
   "id": "78e0a7bc-d4c2-4882-8518-10242852e293",
   "metadata": {},
   "outputs": [],
   "source": []
  }
 ],
 "metadata": {
  "kernelspec": {
   "display_name": "Python 3 (ipykernel)",
   "language": "python",
   "name": "python3"
  },
  "language_info": {
   "codemirror_mode": {
    "name": "ipython",
    "version": 3
   },
   "file_extension": ".py",
   "mimetype": "text/x-python",
   "name": "python",
   "nbconvert_exporter": "python",
   "pygments_lexer": "ipython3",
   "version": "3.10.12"
  }
 },
 "nbformat": 4,
 "nbformat_minor": 5
}
